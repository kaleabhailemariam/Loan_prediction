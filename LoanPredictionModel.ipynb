{
 "cells": [
  {
   "cell_type": "markdown",
   "id": "c9edebf6",
   "metadata": {},
   "source": [
    "## I) LOADING OUR DATASET"
   ]
  },
  {
   "cell_type": "code",
   "execution_count": 1,
   "id": "184c71ae",
   "metadata": {},
   "outputs": [],
   "source": [
    "# importing libraries\n",
    "import pandas as pd\n",
    "import numpy as np\n",
    "import matplotlib.pyplot as plt\n",
    "%matplotlib inline\n",
    "import warnings\n",
    "warnings.filterwarnings(\"ignore\", category=FutureWarning)"
   ]
  },
  {
   "cell_type": "code",
   "execution_count": 2,
   "id": "a792a465",
   "metadata": {},
   "outputs": [],
   "source": [
    "# we have 2 files one for training and other for testing\n",
    "train_df = pd.read_csv(r'C:\\Users\\kalha\\Dropbox\\PC\\Downloads\\archive (4)/credit_train.csv')\n",
    "test_df = pd.read_csv(r'C:\\Users\\kalha\\Dropbox\\PC\\Downloads\\archive (4)/credit_test.csv')"
   ]
  },
  {
   "cell_type": "code",
   "execution_count": 3,
   "id": "9991ddf1",
   "metadata": {},
   "outputs": [
    {
     "data": {
      "text/html": [
       "<div>\n",
       "<style scoped>\n",
       "    .dataframe tbody tr th:only-of-type {\n",
       "        vertical-align: middle;\n",
       "    }\n",
       "\n",
       "    .dataframe tbody tr th {\n",
       "        vertical-align: top;\n",
       "    }\n",
       "\n",
       "    .dataframe thead th {\n",
       "        text-align: right;\n",
       "    }\n",
       "</style>\n",
       "<table border=\"1\" class=\"dataframe\">\n",
       "  <thead>\n",
       "    <tr style=\"text-align: right;\">\n",
       "      <th></th>\n",
       "      <th>Loan ID</th>\n",
       "      <th>Customer ID</th>\n",
       "      <th>Loan Status</th>\n",
       "      <th>Current Loan Amount</th>\n",
       "      <th>Term</th>\n",
       "      <th>Credit Score</th>\n",
       "      <th>Annual Income</th>\n",
       "      <th>Years in current job</th>\n",
       "      <th>Home Ownership</th>\n",
       "      <th>Purpose</th>\n",
       "      <th>Monthly Debt</th>\n",
       "      <th>Years of Credit History</th>\n",
       "      <th>Months since last delinquent</th>\n",
       "      <th>Number of Open Accounts</th>\n",
       "      <th>Number of Credit Problems</th>\n",
       "      <th>Current Credit Balance</th>\n",
       "      <th>Maximum Open Credit</th>\n",
       "      <th>Bankruptcies</th>\n",
       "      <th>Tax Liens</th>\n",
       "    </tr>\n",
       "  </thead>\n",
       "  <tbody>\n",
       "    <tr>\n",
       "      <th>0</th>\n",
       "      <td>14dd8831-6af5-400b-83ec-68e61888a048</td>\n",
       "      <td>981165ec-3274-42f5-a3b4-d104041a9ca9</td>\n",
       "      <td>Fully Paid</td>\n",
       "      <td>445412.0</td>\n",
       "      <td>Short Term</td>\n",
       "      <td>709.0</td>\n",
       "      <td>1167493.0</td>\n",
       "      <td>8 years</td>\n",
       "      <td>Home Mortgage</td>\n",
       "      <td>Home Improvements</td>\n",
       "      <td>5214.74</td>\n",
       "      <td>17.2</td>\n",
       "      <td>NaN</td>\n",
       "      <td>6.0</td>\n",
       "      <td>1.0</td>\n",
       "      <td>228190.0</td>\n",
       "      <td>416746.0</td>\n",
       "      <td>1.0</td>\n",
       "      <td>0.0</td>\n",
       "    </tr>\n",
       "    <tr>\n",
       "      <th>1</th>\n",
       "      <td>4771cc26-131a-45db-b5aa-537ea4ba5342</td>\n",
       "      <td>2de017a3-2e01-49cb-a581-08169e83be29</td>\n",
       "      <td>Fully Paid</td>\n",
       "      <td>262328.0</td>\n",
       "      <td>Short Term</td>\n",
       "      <td>NaN</td>\n",
       "      <td>NaN</td>\n",
       "      <td>10+ years</td>\n",
       "      <td>Home Mortgage</td>\n",
       "      <td>Debt Consolidation</td>\n",
       "      <td>33295.98</td>\n",
       "      <td>21.1</td>\n",
       "      <td>8.0</td>\n",
       "      <td>35.0</td>\n",
       "      <td>0.0</td>\n",
       "      <td>229976.0</td>\n",
       "      <td>850784.0</td>\n",
       "      <td>0.0</td>\n",
       "      <td>0.0</td>\n",
       "    </tr>\n",
       "    <tr>\n",
       "      <th>2</th>\n",
       "      <td>4eed4e6a-aa2f-4c91-8651-ce984ee8fb26</td>\n",
       "      <td>5efb2b2b-bf11-4dfd-a572-3761a2694725</td>\n",
       "      <td>Fully Paid</td>\n",
       "      <td>99999999.0</td>\n",
       "      <td>Short Term</td>\n",
       "      <td>741.0</td>\n",
       "      <td>2231892.0</td>\n",
       "      <td>8 years</td>\n",
       "      <td>Own Home</td>\n",
       "      <td>Debt Consolidation</td>\n",
       "      <td>29200.53</td>\n",
       "      <td>14.9</td>\n",
       "      <td>29.0</td>\n",
       "      <td>18.0</td>\n",
       "      <td>1.0</td>\n",
       "      <td>297996.0</td>\n",
       "      <td>750090.0</td>\n",
       "      <td>0.0</td>\n",
       "      <td>0.0</td>\n",
       "    </tr>\n",
       "    <tr>\n",
       "      <th>3</th>\n",
       "      <td>77598f7b-32e7-4e3b-a6e5-06ba0d98fe8a</td>\n",
       "      <td>e777faab-98ae-45af-9a86-7ce5b33b1011</td>\n",
       "      <td>Fully Paid</td>\n",
       "      <td>347666.0</td>\n",
       "      <td>Long Term</td>\n",
       "      <td>721.0</td>\n",
       "      <td>806949.0</td>\n",
       "      <td>3 years</td>\n",
       "      <td>Own Home</td>\n",
       "      <td>Debt Consolidation</td>\n",
       "      <td>8741.90</td>\n",
       "      <td>12.0</td>\n",
       "      <td>NaN</td>\n",
       "      <td>9.0</td>\n",
       "      <td>0.0</td>\n",
       "      <td>256329.0</td>\n",
       "      <td>386958.0</td>\n",
       "      <td>0.0</td>\n",
       "      <td>0.0</td>\n",
       "    </tr>\n",
       "    <tr>\n",
       "      <th>4</th>\n",
       "      <td>d4062e70-befa-4995-8643-a0de73938182</td>\n",
       "      <td>81536ad9-5ccf-4eb8-befb-47a4d608658e</td>\n",
       "      <td>Fully Paid</td>\n",
       "      <td>176220.0</td>\n",
       "      <td>Short Term</td>\n",
       "      <td>NaN</td>\n",
       "      <td>NaN</td>\n",
       "      <td>5 years</td>\n",
       "      <td>Rent</td>\n",
       "      <td>Debt Consolidation</td>\n",
       "      <td>20639.70</td>\n",
       "      <td>6.1</td>\n",
       "      <td>NaN</td>\n",
       "      <td>15.0</td>\n",
       "      <td>0.0</td>\n",
       "      <td>253460.0</td>\n",
       "      <td>427174.0</td>\n",
       "      <td>0.0</td>\n",
       "      <td>0.0</td>\n",
       "    </tr>\n",
       "  </tbody>\n",
       "</table>\n",
       "</div>"
      ],
      "text/plain": [
       "                                Loan ID                           Customer ID  \\\n",
       "0  14dd8831-6af5-400b-83ec-68e61888a048  981165ec-3274-42f5-a3b4-d104041a9ca9   \n",
       "1  4771cc26-131a-45db-b5aa-537ea4ba5342  2de017a3-2e01-49cb-a581-08169e83be29   \n",
       "2  4eed4e6a-aa2f-4c91-8651-ce984ee8fb26  5efb2b2b-bf11-4dfd-a572-3761a2694725   \n",
       "3  77598f7b-32e7-4e3b-a6e5-06ba0d98fe8a  e777faab-98ae-45af-9a86-7ce5b33b1011   \n",
       "4  d4062e70-befa-4995-8643-a0de73938182  81536ad9-5ccf-4eb8-befb-47a4d608658e   \n",
       "\n",
       "  Loan Status  Current Loan Amount        Term  Credit Score  Annual Income  \\\n",
       "0  Fully Paid             445412.0  Short Term         709.0      1167493.0   \n",
       "1  Fully Paid             262328.0  Short Term           NaN            NaN   \n",
       "2  Fully Paid           99999999.0  Short Term         741.0      2231892.0   \n",
       "3  Fully Paid             347666.0   Long Term         721.0       806949.0   \n",
       "4  Fully Paid             176220.0  Short Term           NaN            NaN   \n",
       "\n",
       "  Years in current job Home Ownership             Purpose  Monthly Debt  \\\n",
       "0              8 years  Home Mortgage   Home Improvements       5214.74   \n",
       "1            10+ years  Home Mortgage  Debt Consolidation      33295.98   \n",
       "2              8 years       Own Home  Debt Consolidation      29200.53   \n",
       "3              3 years       Own Home  Debt Consolidation       8741.90   \n",
       "4              5 years           Rent  Debt Consolidation      20639.70   \n",
       "\n",
       "   Years of Credit History  Months since last delinquent  \\\n",
       "0                     17.2                           NaN   \n",
       "1                     21.1                           8.0   \n",
       "2                     14.9                          29.0   \n",
       "3                     12.0                           NaN   \n",
       "4                      6.1                           NaN   \n",
       "\n",
       "   Number of Open Accounts  Number of Credit Problems  Current Credit Balance  \\\n",
       "0                      6.0                        1.0                228190.0   \n",
       "1                     35.0                        0.0                229976.0   \n",
       "2                     18.0                        1.0                297996.0   \n",
       "3                      9.0                        0.0                256329.0   \n",
       "4                     15.0                        0.0                253460.0   \n",
       "\n",
       "   Maximum Open Credit  Bankruptcies  Tax Liens  \n",
       "0             416746.0           1.0        0.0  \n",
       "1             850784.0           0.0        0.0  \n",
       "2             750090.0           0.0        0.0  \n",
       "3             386958.0           0.0        0.0  \n",
       "4             427174.0           0.0        0.0  "
      ]
     },
     "execution_count": 3,
     "metadata": {},
     "output_type": "execute_result"
    }
   ],
   "source": [
    "train_df.head()\n"
   ]
  },
  {
   "cell_type": "code",
   "execution_count": 4,
   "id": "1043ed3b",
   "metadata": {},
   "outputs": [
    {
     "data": {
      "text/html": [
       "<div>\n",
       "<style scoped>\n",
       "    .dataframe tbody tr th:only-of-type {\n",
       "        vertical-align: middle;\n",
       "    }\n",
       "\n",
       "    .dataframe tbody tr th {\n",
       "        vertical-align: top;\n",
       "    }\n",
       "\n",
       "    .dataframe thead th {\n",
       "        text-align: right;\n",
       "    }\n",
       "</style>\n",
       "<table border=\"1\" class=\"dataframe\">\n",
       "  <thead>\n",
       "    <tr style=\"text-align: right;\">\n",
       "      <th></th>\n",
       "      <th>Loan ID</th>\n",
       "      <th>Customer ID</th>\n",
       "      <th>Current Loan Amount</th>\n",
       "      <th>Term</th>\n",
       "      <th>Credit Score</th>\n",
       "      <th>Annual Income</th>\n",
       "      <th>Years in current job</th>\n",
       "      <th>Home Ownership</th>\n",
       "      <th>Purpose</th>\n",
       "      <th>Monthly Debt</th>\n",
       "      <th>Years of Credit History</th>\n",
       "      <th>Months since last delinquent</th>\n",
       "      <th>Number of Open Accounts</th>\n",
       "      <th>Number of Credit Problems</th>\n",
       "      <th>Current Credit Balance</th>\n",
       "      <th>Maximum Open Credit</th>\n",
       "      <th>Bankruptcies</th>\n",
       "      <th>Tax Liens</th>\n",
       "    </tr>\n",
       "  </thead>\n",
       "  <tbody>\n",
       "    <tr>\n",
       "      <th>0</th>\n",
       "      <td>f738779f-c726-40dc-92cf-689d73af533d</td>\n",
       "      <td>ded0b3c3-6bf4-4091-8726-47039f2c1b90</td>\n",
       "      <td>611314.0</td>\n",
       "      <td>Short Term</td>\n",
       "      <td>747.0</td>\n",
       "      <td>2074116.0</td>\n",
       "      <td>10+ years</td>\n",
       "      <td>Home Mortgage</td>\n",
       "      <td>Debt Consolidation</td>\n",
       "      <td>42000.83</td>\n",
       "      <td>21.8</td>\n",
       "      <td>NaN</td>\n",
       "      <td>9.0</td>\n",
       "      <td>0.0</td>\n",
       "      <td>621908.0</td>\n",
       "      <td>1058970.0</td>\n",
       "      <td>0.0</td>\n",
       "      <td>0.0</td>\n",
       "    </tr>\n",
       "    <tr>\n",
       "      <th>1</th>\n",
       "      <td>6dcc0947-164d-476c-a1de-3ae7283dde0a</td>\n",
       "      <td>1630e6e3-34e3-461a-8fda-09297d3140c8</td>\n",
       "      <td>266662.0</td>\n",
       "      <td>Short Term</td>\n",
       "      <td>734.0</td>\n",
       "      <td>1919190.0</td>\n",
       "      <td>10+ years</td>\n",
       "      <td>Home Mortgage</td>\n",
       "      <td>Debt Consolidation</td>\n",
       "      <td>36624.40</td>\n",
       "      <td>19.4</td>\n",
       "      <td>NaN</td>\n",
       "      <td>11.0</td>\n",
       "      <td>0.0</td>\n",
       "      <td>679573.0</td>\n",
       "      <td>904442.0</td>\n",
       "      <td>0.0</td>\n",
       "      <td>0.0</td>\n",
       "    </tr>\n",
       "    <tr>\n",
       "      <th>2</th>\n",
       "      <td>f7744d01-894b-49c3-8777-fc6431a2cff1</td>\n",
       "      <td>2c60938b-ad2b-4702-804d-eeca43949c52</td>\n",
       "      <td>153494.0</td>\n",
       "      <td>Short Term</td>\n",
       "      <td>709.0</td>\n",
       "      <td>871112.0</td>\n",
       "      <td>2 years</td>\n",
       "      <td>Rent</td>\n",
       "      <td>Debt Consolidation</td>\n",
       "      <td>8391.73</td>\n",
       "      <td>12.5</td>\n",
       "      <td>10.0</td>\n",
       "      <td>10.0</td>\n",
       "      <td>0.0</td>\n",
       "      <td>38532.0</td>\n",
       "      <td>388036.0</td>\n",
       "      <td>0.0</td>\n",
       "      <td>0.0</td>\n",
       "    </tr>\n",
       "    <tr>\n",
       "      <th>3</th>\n",
       "      <td>83721ffb-b99a-4a0f-aea5-ef472a138b41</td>\n",
       "      <td>12116614-2f3c-4d16-ad34-d92883718806</td>\n",
       "      <td>176242.0</td>\n",
       "      <td>Short Term</td>\n",
       "      <td>727.0</td>\n",
       "      <td>780083.0</td>\n",
       "      <td>10+ years</td>\n",
       "      <td>Rent</td>\n",
       "      <td>Debt Consolidation</td>\n",
       "      <td>16771.87</td>\n",
       "      <td>16.5</td>\n",
       "      <td>27.0</td>\n",
       "      <td>16.0</td>\n",
       "      <td>1.0</td>\n",
       "      <td>156940.0</td>\n",
       "      <td>531322.0</td>\n",
       "      <td>1.0</td>\n",
       "      <td>0.0</td>\n",
       "    </tr>\n",
       "    <tr>\n",
       "      <th>4</th>\n",
       "      <td>08f3789f-5714-4b10-929d-e1527ab5e5a3</td>\n",
       "      <td>39888105-fd5f-4023-860a-30a3e6f5ccb7</td>\n",
       "      <td>321992.0</td>\n",
       "      <td>Short Term</td>\n",
       "      <td>744.0</td>\n",
       "      <td>1761148.0</td>\n",
       "      <td>10+ years</td>\n",
       "      <td>Home Mortgage</td>\n",
       "      <td>Debt Consolidation</td>\n",
       "      <td>39478.77</td>\n",
       "      <td>26.0</td>\n",
       "      <td>44.0</td>\n",
       "      <td>14.0</td>\n",
       "      <td>0.0</td>\n",
       "      <td>359765.0</td>\n",
       "      <td>468072.0</td>\n",
       "      <td>0.0</td>\n",
       "      <td>0.0</td>\n",
       "    </tr>\n",
       "  </tbody>\n",
       "</table>\n",
       "</div>"
      ],
      "text/plain": [
       "                                Loan ID                           Customer ID  \\\n",
       "0  f738779f-c726-40dc-92cf-689d73af533d  ded0b3c3-6bf4-4091-8726-47039f2c1b90   \n",
       "1  6dcc0947-164d-476c-a1de-3ae7283dde0a  1630e6e3-34e3-461a-8fda-09297d3140c8   \n",
       "2  f7744d01-894b-49c3-8777-fc6431a2cff1  2c60938b-ad2b-4702-804d-eeca43949c52   \n",
       "3  83721ffb-b99a-4a0f-aea5-ef472a138b41  12116614-2f3c-4d16-ad34-d92883718806   \n",
       "4  08f3789f-5714-4b10-929d-e1527ab5e5a3  39888105-fd5f-4023-860a-30a3e6f5ccb7   \n",
       "\n",
       "   Current Loan Amount        Term  Credit Score  Annual Income  \\\n",
       "0             611314.0  Short Term         747.0      2074116.0   \n",
       "1             266662.0  Short Term         734.0      1919190.0   \n",
       "2             153494.0  Short Term         709.0       871112.0   \n",
       "3             176242.0  Short Term         727.0       780083.0   \n",
       "4             321992.0  Short Term         744.0      1761148.0   \n",
       "\n",
       "  Years in current job Home Ownership             Purpose  Monthly Debt  \\\n",
       "0            10+ years  Home Mortgage  Debt Consolidation      42000.83   \n",
       "1            10+ years  Home Mortgage  Debt Consolidation      36624.40   \n",
       "2              2 years           Rent  Debt Consolidation       8391.73   \n",
       "3            10+ years           Rent  Debt Consolidation      16771.87   \n",
       "4            10+ years  Home Mortgage  Debt Consolidation      39478.77   \n",
       "\n",
       "   Years of Credit History  Months since last delinquent  \\\n",
       "0                     21.8                           NaN   \n",
       "1                     19.4                           NaN   \n",
       "2                     12.5                          10.0   \n",
       "3                     16.5                          27.0   \n",
       "4                     26.0                          44.0   \n",
       "\n",
       "   Number of Open Accounts  Number of Credit Problems  Current Credit Balance  \\\n",
       "0                      9.0                        0.0                621908.0   \n",
       "1                     11.0                        0.0                679573.0   \n",
       "2                     10.0                        0.0                 38532.0   \n",
       "3                     16.0                        1.0                156940.0   \n",
       "4                     14.0                        0.0                359765.0   \n",
       "\n",
       "   Maximum Open Credit  Bankruptcies  Tax Liens  \n",
       "0            1058970.0           0.0        0.0  \n",
       "1             904442.0           0.0        0.0  \n",
       "2             388036.0           0.0        0.0  \n",
       "3             531322.0           1.0        0.0  \n",
       "4             468072.0           0.0        0.0  "
      ]
     },
     "execution_count": 4,
     "metadata": {},
     "output_type": "execute_result"
    }
   ],
   "source": [
    "test_df.head()"
   ]
  },
  {
   "cell_type": "code",
   "execution_count": 5,
   "id": "51e949b0",
   "metadata": {},
   "outputs": [
    {
     "name": "stdout",
     "output_type": "stream",
     "text": [
      "(100514, 19)\n",
      "(10353, 18)\n"
     ]
    }
   ],
   "source": [
    "print(train_df.shape)\n",
    "print(test_df.shape)"
   ]
  },
  {
   "cell_type": "markdown",
   "id": "3ad4f957",
   "metadata": {},
   "source": [
    "#### As you can see above our train dataset has 100514 rows and 19 columns and test dataset has 10353 rows and 18 columns"
   ]
  },
  {
   "cell_type": "code",
   "execution_count": 6,
   "id": "9e18c4ee",
   "metadata": {},
   "outputs": [
    {
     "data": {
      "text/plain": [
       "<bound method NDFrame.describe of                                      Loan ID  \\\n",
       "0       14dd8831-6af5-400b-83ec-68e61888a048   \n",
       "1       4771cc26-131a-45db-b5aa-537ea4ba5342   \n",
       "2       4eed4e6a-aa2f-4c91-8651-ce984ee8fb26   \n",
       "3       77598f7b-32e7-4e3b-a6e5-06ba0d98fe8a   \n",
       "4       d4062e70-befa-4995-8643-a0de73938182   \n",
       "...                                      ...   \n",
       "100509                                   NaN   \n",
       "100510                                   NaN   \n",
       "100511                                   NaN   \n",
       "100512                                   NaN   \n",
       "100513                                   NaN   \n",
       "\n",
       "                                 Customer ID Loan Status  Current Loan Amount  \\\n",
       "0       981165ec-3274-42f5-a3b4-d104041a9ca9  Fully Paid             445412.0   \n",
       "1       2de017a3-2e01-49cb-a581-08169e83be29  Fully Paid             262328.0   \n",
       "2       5efb2b2b-bf11-4dfd-a572-3761a2694725  Fully Paid           99999999.0   \n",
       "3       e777faab-98ae-45af-9a86-7ce5b33b1011  Fully Paid             347666.0   \n",
       "4       81536ad9-5ccf-4eb8-befb-47a4d608658e  Fully Paid             176220.0   \n",
       "...                                      ...         ...                  ...   \n",
       "100509                                   NaN         NaN                  NaN   \n",
       "100510                                   NaN         NaN                  NaN   \n",
       "100511                                   NaN         NaN                  NaN   \n",
       "100512                                   NaN         NaN                  NaN   \n",
       "100513                                   NaN         NaN                  NaN   \n",
       "\n",
       "              Term  Credit Score  Annual Income Years in current job  \\\n",
       "0       Short Term         709.0      1167493.0              8 years   \n",
       "1       Short Term           NaN            NaN            10+ years   \n",
       "2       Short Term         741.0      2231892.0              8 years   \n",
       "3        Long Term         721.0       806949.0              3 years   \n",
       "4       Short Term           NaN            NaN              5 years   \n",
       "...            ...           ...            ...                  ...   \n",
       "100509         NaN           NaN            NaN                  NaN   \n",
       "100510         NaN           NaN            NaN                  NaN   \n",
       "100511         NaN           NaN            NaN                  NaN   \n",
       "100512         NaN           NaN            NaN                  NaN   \n",
       "100513         NaN           NaN            NaN                  NaN   \n",
       "\n",
       "       Home Ownership             Purpose  Monthly Debt  \\\n",
       "0       Home Mortgage   Home Improvements       5214.74   \n",
       "1       Home Mortgage  Debt Consolidation      33295.98   \n",
       "2            Own Home  Debt Consolidation      29200.53   \n",
       "3            Own Home  Debt Consolidation       8741.90   \n",
       "4                Rent  Debt Consolidation      20639.70   \n",
       "...               ...                 ...           ...   \n",
       "100509            NaN                 NaN           NaN   \n",
       "100510            NaN                 NaN           NaN   \n",
       "100511            NaN                 NaN           NaN   \n",
       "100512            NaN                 NaN           NaN   \n",
       "100513            NaN                 NaN           NaN   \n",
       "\n",
       "        Years of Credit History  Months since last delinquent  \\\n",
       "0                          17.2                           NaN   \n",
       "1                          21.1                           8.0   \n",
       "2                          14.9                          29.0   \n",
       "3                          12.0                           NaN   \n",
       "4                           6.1                           NaN   \n",
       "...                         ...                           ...   \n",
       "100509                      NaN                           NaN   \n",
       "100510                      NaN                           NaN   \n",
       "100511                      NaN                           NaN   \n",
       "100512                      NaN                           NaN   \n",
       "100513                      NaN                           NaN   \n",
       "\n",
       "        Number of Open Accounts  Number of Credit Problems  \\\n",
       "0                           6.0                        1.0   \n",
       "1                          35.0                        0.0   \n",
       "2                          18.0                        1.0   \n",
       "3                           9.0                        0.0   \n",
       "4                          15.0                        0.0   \n",
       "...                         ...                        ...   \n",
       "100509                      NaN                        NaN   \n",
       "100510                      NaN                        NaN   \n",
       "100511                      NaN                        NaN   \n",
       "100512                      NaN                        NaN   \n",
       "100513                      NaN                        NaN   \n",
       "\n",
       "        Current Credit Balance  Maximum Open Credit  Bankruptcies  Tax Liens  \n",
       "0                     228190.0             416746.0           1.0        0.0  \n",
       "1                     229976.0             850784.0           0.0        0.0  \n",
       "2                     297996.0             750090.0           0.0        0.0  \n",
       "3                     256329.0             386958.0           0.0        0.0  \n",
       "4                     253460.0             427174.0           0.0        0.0  \n",
       "...                        ...                  ...           ...        ...  \n",
       "100509                     NaN                  NaN           NaN        NaN  \n",
       "100510                     NaN                  NaN           NaN        NaN  \n",
       "100511                     NaN                  NaN           NaN        NaN  \n",
       "100512                     NaN                  NaN           NaN        NaN  \n",
       "100513                     NaN                  NaN           NaN        NaN  \n",
       "\n",
       "[100514 rows x 19 columns]>"
      ]
     },
     "execution_count": 6,
     "metadata": {},
     "output_type": "execute_result"
    }
   ],
   "source": [
    "train_df.describe"
   ]
  },
  {
   "cell_type": "markdown",
   "id": "4e726797",
   "metadata": {},
   "source": [
    "### We will use the train dataset to build my model which includes the target variable(y)"
   ]
  },
  {
   "cell_type": "markdown",
   "id": "2c56d73d",
   "metadata": {},
   "source": [
    "## II) HANDLING MISSING VALUES"
   ]
  },
  {
   "cell_type": "code",
   "execution_count": 7,
   "id": "e941d3c0",
   "metadata": {},
   "outputs": [],
   "source": [
    "def missing_values(df):\n",
    "    a=null_values=df.isnull().sum()\n",
    "    return a"
   ]
  },
  {
   "cell_type": "code",
   "execution_count": 8,
   "id": "2887fd10",
   "metadata": {},
   "outputs": [
    {
     "data": {
      "text/plain": [
       "Loan ID                           514\n",
       "Customer ID                       514\n",
       "Loan Status                       514\n",
       "Current Loan Amount               514\n",
       "Term                              514\n",
       "Credit Score                    19668\n",
       "Annual Income                   19668\n",
       "Years in current job             4736\n",
       "Home Ownership                    514\n",
       "Purpose                           514\n",
       "Monthly Debt                      514\n",
       "Years of Credit History           514\n",
       "Months since last delinquent    53655\n",
       "Number of Open Accounts           514\n",
       "Number of Credit Problems         514\n",
       "Current Credit Balance            514\n",
       "Maximum Open Credit               516\n",
       "Bankruptcies                      718\n",
       "Tax Liens                         524\n",
       "dtype: int64"
      ]
     },
     "execution_count": 8,
     "metadata": {},
     "output_type": "execute_result"
    }
   ],
   "source": [
    "missing_values(train_df)"
   ]
  },
  {
   "cell_type": "markdown",
   "id": "b236547f",
   "metadata": {},
   "source": [
    "### As we can see from above there are many attributes with missing values. Some columns like(Months since last delinquent) has many missing values more than we can handle so we will drop it and for the others we will use different techniques to hadle missing values like measure of central tendency."
   ]
  },
  {
   "cell_type": "code",
   "execution_count": 9,
   "id": "b29f1c22",
   "metadata": {},
   "outputs": [
    {
     "data": {
      "text/html": [
       "<div>\n",
       "<style scoped>\n",
       "    .dataframe tbody tr th:only-of-type {\n",
       "        vertical-align: middle;\n",
       "    }\n",
       "\n",
       "    .dataframe tbody tr th {\n",
       "        vertical-align: top;\n",
       "    }\n",
       "\n",
       "    .dataframe thead th {\n",
       "        text-align: right;\n",
       "    }\n",
       "</style>\n",
       "<table border=\"1\" class=\"dataframe\">\n",
       "  <thead>\n",
       "    <tr style=\"text-align: right;\">\n",
       "      <th></th>\n",
       "      <th>Current Loan Amount</th>\n",
       "      <th>Credit Score</th>\n",
       "      <th>Annual Income</th>\n",
       "      <th>Monthly Debt</th>\n",
       "      <th>Years of Credit History</th>\n",
       "      <th>Months since last delinquent</th>\n",
       "      <th>Number of Open Accounts</th>\n",
       "      <th>Number of Credit Problems</th>\n",
       "      <th>Current Credit Balance</th>\n",
       "      <th>Maximum Open Credit</th>\n",
       "      <th>Bankruptcies</th>\n",
       "      <th>Tax Liens</th>\n",
       "    </tr>\n",
       "  </thead>\n",
       "  <tbody>\n",
       "    <tr>\n",
       "      <th>count</th>\n",
       "      <td>1.000000e+05</td>\n",
       "      <td>80846.000000</td>\n",
       "      <td>8.084600e+04</td>\n",
       "      <td>100000.000000</td>\n",
       "      <td>100000.000000</td>\n",
       "      <td>46859.000000</td>\n",
       "      <td>100000.00000</td>\n",
       "      <td>100000.000000</td>\n",
       "      <td>1.000000e+05</td>\n",
       "      <td>9.999800e+04</td>\n",
       "      <td>99796.000000</td>\n",
       "      <td>99990.000000</td>\n",
       "    </tr>\n",
       "    <tr>\n",
       "      <th>mean</th>\n",
       "      <td>1.176045e+07</td>\n",
       "      <td>1076.456089</td>\n",
       "      <td>1.378277e+06</td>\n",
       "      <td>18472.412336</td>\n",
       "      <td>18.199141</td>\n",
       "      <td>34.901321</td>\n",
       "      <td>11.12853</td>\n",
       "      <td>0.168310</td>\n",
       "      <td>2.946374e+05</td>\n",
       "      <td>7.607984e+05</td>\n",
       "      <td>0.117740</td>\n",
       "      <td>0.029313</td>\n",
       "    </tr>\n",
       "    <tr>\n",
       "      <th>std</th>\n",
       "      <td>3.178394e+07</td>\n",
       "      <td>1475.403791</td>\n",
       "      <td>1.081360e+06</td>\n",
       "      <td>12174.992609</td>\n",
       "      <td>7.015324</td>\n",
       "      <td>21.997829</td>\n",
       "      <td>5.00987</td>\n",
       "      <td>0.482705</td>\n",
       "      <td>3.761709e+05</td>\n",
       "      <td>8.384503e+06</td>\n",
       "      <td>0.351424</td>\n",
       "      <td>0.258182</td>\n",
       "    </tr>\n",
       "    <tr>\n",
       "      <th>min</th>\n",
       "      <td>1.080200e+04</td>\n",
       "      <td>585.000000</td>\n",
       "      <td>7.662700e+04</td>\n",
       "      <td>0.000000</td>\n",
       "      <td>3.600000</td>\n",
       "      <td>0.000000</td>\n",
       "      <td>0.00000</td>\n",
       "      <td>0.000000</td>\n",
       "      <td>0.000000e+00</td>\n",
       "      <td>0.000000e+00</td>\n",
       "      <td>0.000000</td>\n",
       "      <td>0.000000</td>\n",
       "    </tr>\n",
       "    <tr>\n",
       "      <th>25%</th>\n",
       "      <td>1.796520e+05</td>\n",
       "      <td>705.000000</td>\n",
       "      <td>8.488440e+05</td>\n",
       "      <td>10214.162500</td>\n",
       "      <td>13.500000</td>\n",
       "      <td>16.000000</td>\n",
       "      <td>8.00000</td>\n",
       "      <td>0.000000</td>\n",
       "      <td>1.126700e+05</td>\n",
       "      <td>2.734380e+05</td>\n",
       "      <td>0.000000</td>\n",
       "      <td>0.000000</td>\n",
       "    </tr>\n",
       "    <tr>\n",
       "      <th>50%</th>\n",
       "      <td>3.122460e+05</td>\n",
       "      <td>724.000000</td>\n",
       "      <td>1.174162e+06</td>\n",
       "      <td>16220.300000</td>\n",
       "      <td>16.900000</td>\n",
       "      <td>32.000000</td>\n",
       "      <td>10.00000</td>\n",
       "      <td>0.000000</td>\n",
       "      <td>2.098170e+05</td>\n",
       "      <td>4.678740e+05</td>\n",
       "      <td>0.000000</td>\n",
       "      <td>0.000000</td>\n",
       "    </tr>\n",
       "    <tr>\n",
       "      <th>75%</th>\n",
       "      <td>5.249420e+05</td>\n",
       "      <td>741.000000</td>\n",
       "      <td>1.650663e+06</td>\n",
       "      <td>24012.057500</td>\n",
       "      <td>21.700000</td>\n",
       "      <td>51.000000</td>\n",
       "      <td>14.00000</td>\n",
       "      <td>0.000000</td>\n",
       "      <td>3.679588e+05</td>\n",
       "      <td>7.829580e+05</td>\n",
       "      <td>0.000000</td>\n",
       "      <td>0.000000</td>\n",
       "    </tr>\n",
       "    <tr>\n",
       "      <th>max</th>\n",
       "      <td>1.000000e+08</td>\n",
       "      <td>7510.000000</td>\n",
       "      <td>1.655574e+08</td>\n",
       "      <td>435843.280000</td>\n",
       "      <td>70.500000</td>\n",
       "      <td>176.000000</td>\n",
       "      <td>76.00000</td>\n",
       "      <td>15.000000</td>\n",
       "      <td>3.287897e+07</td>\n",
       "      <td>1.539738e+09</td>\n",
       "      <td>7.000000</td>\n",
       "      <td>15.000000</td>\n",
       "    </tr>\n",
       "  </tbody>\n",
       "</table>\n",
       "</div>"
      ],
      "text/plain": [
       "       Current Loan Amount  Credit Score  Annual Income   Monthly Debt  \\\n",
       "count         1.000000e+05  80846.000000   8.084600e+04  100000.000000   \n",
       "mean          1.176045e+07   1076.456089   1.378277e+06   18472.412336   \n",
       "std           3.178394e+07   1475.403791   1.081360e+06   12174.992609   \n",
       "min           1.080200e+04    585.000000   7.662700e+04       0.000000   \n",
       "25%           1.796520e+05    705.000000   8.488440e+05   10214.162500   \n",
       "50%           3.122460e+05    724.000000   1.174162e+06   16220.300000   \n",
       "75%           5.249420e+05    741.000000   1.650663e+06   24012.057500   \n",
       "max           1.000000e+08   7510.000000   1.655574e+08  435843.280000   \n",
       "\n",
       "       Years of Credit History  Months since last delinquent  \\\n",
       "count            100000.000000                  46859.000000   \n",
       "mean                 18.199141                     34.901321   \n",
       "std                   7.015324                     21.997829   \n",
       "min                   3.600000                      0.000000   \n",
       "25%                  13.500000                     16.000000   \n",
       "50%                  16.900000                     32.000000   \n",
       "75%                  21.700000                     51.000000   \n",
       "max                  70.500000                    176.000000   \n",
       "\n",
       "       Number of Open Accounts  Number of Credit Problems  \\\n",
       "count             100000.00000              100000.000000   \n",
       "mean                  11.12853                   0.168310   \n",
       "std                    5.00987                   0.482705   \n",
       "min                    0.00000                   0.000000   \n",
       "25%                    8.00000                   0.000000   \n",
       "50%                   10.00000                   0.000000   \n",
       "75%                   14.00000                   0.000000   \n",
       "max                   76.00000                  15.000000   \n",
       "\n",
       "       Current Credit Balance  Maximum Open Credit  Bankruptcies     Tax Liens  \n",
       "count            1.000000e+05         9.999800e+04  99796.000000  99990.000000  \n",
       "mean             2.946374e+05         7.607984e+05      0.117740      0.029313  \n",
       "std              3.761709e+05         8.384503e+06      0.351424      0.258182  \n",
       "min              0.000000e+00         0.000000e+00      0.000000      0.000000  \n",
       "25%              1.126700e+05         2.734380e+05      0.000000      0.000000  \n",
       "50%              2.098170e+05         4.678740e+05      0.000000      0.000000  \n",
       "75%              3.679588e+05         7.829580e+05      0.000000      0.000000  \n",
       "max              3.287897e+07         1.539738e+09      7.000000     15.000000  "
      ]
     },
     "execution_count": 9,
     "metadata": {},
     "output_type": "execute_result"
    }
   ],
   "source": [
    "train_df.describe()"
   ]
  },
  {
   "cell_type": "code",
   "execution_count": 10,
   "id": "cd45f07d",
   "metadata": {},
   "outputs": [],
   "source": [
    "# Drop the Months since last delinquentcolumn\n",
    "train_df = train_df.drop(columns = 'Months since last delinquent', axis=1)"
   ]
  },
  {
   "cell_type": "code",
   "execution_count": 11,
   "id": "199c3d7d",
   "metadata": {},
   "outputs": [
    {
     "data": {
      "text/plain": [
       "Index(['Loan ID', 'Customer ID', 'Loan Status', 'Current Loan Amount', 'Term',\n",
       "       'Credit Score', 'Annual Income', 'Years in current job',\n",
       "       'Home Ownership', 'Purpose', 'Monthly Debt', 'Years of Credit History',\n",
       "       'Number of Open Accounts', 'Number of Credit Problems',\n",
       "       'Current Credit Balance', 'Maximum Open Credit', 'Bankruptcies',\n",
       "       'Tax Liens'],\n",
       "      dtype='object')"
      ]
     },
     "execution_count": 11,
     "metadata": {},
     "output_type": "execute_result"
    }
   ],
   "source": [
    "train_df.columns"
   ]
  },
  {
   "cell_type": "code",
   "execution_count": 12,
   "id": "1a521ea7",
   "metadata": {},
   "outputs": [
    {
     "name": "stdout",
     "output_type": "stream",
     "text": [
      "<class 'pandas.core.frame.DataFrame'>\n",
      "RangeIndex: 100514 entries, 0 to 100513\n",
      "Data columns (total 18 columns):\n",
      " #   Column                     Non-Null Count   Dtype  \n",
      "---  ------                     --------------   -----  \n",
      " 0   Loan ID                    100000 non-null  object \n",
      " 1   Customer ID                100000 non-null  object \n",
      " 2   Loan Status                100000 non-null  object \n",
      " 3   Current Loan Amount        100000 non-null  float64\n",
      " 4   Term                       100000 non-null  object \n",
      " 5   Credit Score               80846 non-null   float64\n",
      " 6   Annual Income              80846 non-null   float64\n",
      " 7   Years in current job       95778 non-null   object \n",
      " 8   Home Ownership             100000 non-null  object \n",
      " 9   Purpose                    100000 non-null  object \n",
      " 10  Monthly Debt               100000 non-null  float64\n",
      " 11  Years of Credit History    100000 non-null  float64\n",
      " 12  Number of Open Accounts    100000 non-null  float64\n",
      " 13  Number of Credit Problems  100000 non-null  float64\n",
      " 14  Current Credit Balance     100000 non-null  float64\n",
      " 15  Maximum Open Credit        99998 non-null   float64\n",
      " 16  Bankruptcies               99796 non-null   float64\n",
      " 17  Tax Liens                  99990 non-null   float64\n",
      "dtypes: float64(11), object(7)\n",
      "memory usage: 13.8+ MB\n"
     ]
    }
   ],
   "source": [
    "train_df.info()"
   ]
  },
  {
   "cell_type": "markdown",
   "id": "306b6519",
   "metadata": {},
   "source": [
    "#### As you can see we have several missing values in different column. So we have to handle this missing values to build our model annd make it effective."
   ]
  },
  {
   "cell_type": "markdown",
   "id": "600de6dd",
   "metadata": {},
   "source": [
    "#### - We have two types of data categorical and numerical data\n",
    "#### - We will handle the missing values for Both the categorical and numerical data"
   ]
  },
  {
   "cell_type": "markdown",
   "id": "474d4df1",
   "metadata": {},
   "source": [
    "### 1) For Numeric Data"
   ]
  },
  {
   "cell_type": "code",
   "execution_count": 13,
   "id": "29d323f9",
   "metadata": {},
   "outputs": [],
   "source": [
    "train_df['Current Loan Amount'] = train_df['Current Loan Amount'].fillna(train_df['Current Loan Amount'].mean())\n",
    "train_df['Credit Score'] = train_df['Credit Score'].fillna(train_df['Credit Score'].mean())\n",
    "train_df['Annual Income'] = train_df['Annual Income'].fillna(train_df['Annual Income'].mean())\n",
    "train_df['Monthly Debt'] = train_df['Monthly Debt'].fillna(train_df['Monthly Debt'].mean())\n",
    "train_df['Years of Credit History'] = train_df['Years of Credit History'].fillna(train_df['Years of Credit History'].mean())\n",
    "train_df['Number of Open Accounts'] = train_df['Number of Open Accounts'].fillna(train_df['Number of Open Accounts'].mean())\n",
    "train_df['Number of Credit Problems'] = train_df['Number of Credit Problems'].fillna(train_df['Number of Credit Problems'].mean())\n",
    "train_df['Current Credit Balance'] = train_df['Current Credit Balance'].fillna(train_df['Current Credit Balance'].mean())\n",
    "train_df['Maximum Open Credit'] = train_df['Maximum Open Credit'].fillna(train_df['Maximum Open Credit'].mean())\n",
    "train_df['Bankruptcies'] = train_df['Bankruptcies'].fillna(train_df['Bankruptcies'].mean())\n",
    "train_df['Tax Liens'] = train_df['Tax Liens'].fillna(train_df['Tax Liens'].mean())"
   ]
  },
  {
   "cell_type": "code",
   "execution_count": 14,
   "id": "0676687a",
   "metadata": {},
   "outputs": [
    {
     "data": {
      "text/plain": [
       "Loan ID                       514\n",
       "Customer ID                   514\n",
       "Loan Status                   514\n",
       "Current Loan Amount             0\n",
       "Term                          514\n",
       "Credit Score                    0\n",
       "Annual Income                   0\n",
       "Years in current job         4736\n",
       "Home Ownership                514\n",
       "Purpose                       514\n",
       "Monthly Debt                    0\n",
       "Years of Credit History         0\n",
       "Number of Open Accounts         0\n",
       "Number of Credit Problems       0\n",
       "Current Credit Balance          0\n",
       "Maximum Open Credit             0\n",
       "Bankruptcies                    0\n",
       "Tax Liens                       0\n",
       "dtype: int64"
      ]
     },
     "execution_count": 14,
     "metadata": {},
     "output_type": "execute_result"
    }
   ],
   "source": [
    "missing_values(train_df)"
   ]
  },
  {
   "cell_type": "markdown",
   "id": "3c463a18",
   "metadata": {},
   "source": [
    "### 2) For Categorical Data"
   ]
  },
  {
   "cell_type": "code",
   "execution_count": 15,
   "id": "3d43ad46",
   "metadata": {},
   "outputs": [],
   "source": [
    "cols=train_df[[\"Loan Status\",\"Term\",\"Home Ownership\",\"Purpose\"]]\n",
    "for i in cols:\n",
    "    train_df[i].fillna(train_df[i].mode().iloc[0],inplace=True)"
   ]
  },
  {
   "cell_type": "code",
   "execution_count": 18,
   "id": "0b8e82d0",
   "metadata": {},
   "outputs": [
    {
     "data": {
      "text/plain": [
       "Loan ID                       514\n",
       "Customer ID                   514\n",
       "Loan Status                     0\n",
       "Current Loan Amount             0\n",
       "Term                            0\n",
       "Credit Score                    0\n",
       "Annual Income                   0\n",
       "Years in current job         4736\n",
       "Home Ownership                  0\n",
       "Purpose                         0\n",
       "Monthly Debt                    0\n",
       "Years of Credit History         0\n",
       "Number of Open Accounts         0\n",
       "Number of Credit Problems       0\n",
       "Current Credit Balance          0\n",
       "Maximum Open Credit             0\n",
       "Bankruptcies                    0\n",
       "Tax Liens                       0\n",
       "dtype: int64"
      ]
     },
     "execution_count": 18,
     "metadata": {},
     "output_type": "execute_result"
    }
   ],
   "source": [
    "train_df.isnull().sum()"
   ]
  },
  {
   "cell_type": "markdown",
   "id": "1d190caf",
   "metadata": {},
   "source": [
    "## III) VISUALIZATION AND EDA"
   ]
  },
  {
   "cell_type": "markdown",
   "id": "87db472e",
   "metadata": {},
   "source": [
    "#### Lets start with a bar chart showing that the relationship between different attributes and how they affect the loan decision"
   ]
  },
  {
   "cell_type": "code",
   "execution_count": 16,
   "id": "318da917",
   "metadata": {},
   "outputs": [],
   "source": [
    "import pandas as pd\n",
    "\n",
    "def bar_chart(col):\n",
    "    purpose_counts = train_df[col].value_counts()\n",
    "\n",
    "    df1 = pd.DataFrame(purpose_counts)\n",
    "    df1.plot(kind=\"bar\")\n"
   ]
  },
  {
   "cell_type": "code",
   "execution_count": 17,
   "id": "73f728f1",
   "metadata": {},
   "outputs": [
    {
     "data": {
      "image/png": "[encoded data removed]",
      "text/plain": [
       "<Figure size 432x288 with 1 Axes>"
      ]
     },
     "metadata": {
      "needs_background": "light"
     },
     "output_type": "display_data"
    }
   ],
   "source": [
    "bar_chart(\"Purpose\")"
   ]
  },
  {
   "cell_type": "code",
   "execution_count": 18,
   "id": "19a3ae47",
   "metadata": {},
   "outputs": [
    {
     "data": {
      "text/plain": [
       "<AxesSubplot:>"
      ]
     },
     "execution_count": 18,
     "metadata": {},
     "output_type": "execute_result"
    },
    {
     "data": {
      "image/png": "[encoded data removed]",
      "text/plain": [
       "<Figure size 432x288 with 1 Axes>"
      ]
     },
     "metadata": {
      "needs_background": "light"
     },
     "output_type": "display_data"
    }
   ],
   "source": [
    "train_df.boxplot(column=\"Annual Income\")"
   ]
  },
  {
   "cell_type": "code",
   "execution_count": 19,
   "id": "93ae20bd",
   "metadata": {},
   "outputs": [
    {
     "data": {
      "text/plain": [
       "<AxesSubplot:>"
      ]
     },
     "execution_count": 19,
     "metadata": {},
     "output_type": "execute_result"
    },
    {
     "data": {
      "image/png": "[encoded data removed]",
      "text/plain": [
       "<Figure size 432x288 with 1 Axes>"
      ]
     },
     "metadata": {
      "needs_background": "light"
     },
     "output_type": "display_data"
    }
   ],
   "source": [
    "train_df['Credit Score'].hist(bins=20)"
   ]
  },
  {
   "cell_type": "code",
   "execution_count": 20,
   "id": "faa62924",
   "metadata": {},
   "outputs": [
    {
     "data": {
      "text/plain": [
       "<AxesSubplot:>"
      ]
     },
     "execution_count": 20,
     "metadata": {},
     "output_type": "execute_result"
    },
    {
     "data": {
      "image/png": "[encoded data removed]",
      "text/plain": [
       "<Figure size 432x288 with 1 Axes>"
      ]
     },
     "metadata": {
      "needs_background": "light"
     },
     "output_type": "display_data"
    }
   ],
   "source": [
    "train_df['Monthly Debt'].hist(bins=20) "
   ]
  },
  {
   "cell_type": "code",
   "execution_count": 21,
   "id": "867f1c62",
   "metadata": {
    "scrolled": true
   },
   "outputs": [
    {
     "data": {
      "image/png": "[encoded data removed]",
      "text/plain": [
       "<Figure size 576x432 with 1 Axes>"
      ]
     },
     "metadata": {
      "needs_background": "light"
     },
     "output_type": "display_data"
    }
   ],
   "source": [
    "import seaborn as sns\n",
    "import matplotlib.pyplot as plt\n",
    "\n",
    "plt.figure(figsize=(8, 6))  # Adjust the figure size if needed\n",
    "sns.countplot(x='Bankruptcies', data=train_df, palette='Set1')\n",
    "plt.xticks(rotation=45)  # Rotate the x-axis labels by 45 degrees\n",
    "\n",
    "plt.show()\n"
   ]
  },
  {
   "cell_type": "markdown",
   "id": "70c50d12",
   "metadata": {},
   "source": [
    "#### Normalizing all the higly skewed columns"
   ]
  },
  {
   "cell_type": "code",
   "execution_count": 22,
   "id": "71a32c90",
   "metadata": {},
   "outputs": [
    {
     "data": {
      "text/plain": [
       "<AxesSubplot:xlabel='Annual Income', ylabel='Density'>"
      ]
     },
     "execution_count": 22,
     "metadata": {},
     "output_type": "execute_result"
    },
    {
     "data": {
      "image/png": "[encoded data removed]",
      "text/plain": [
       "<Figure size 432x288 with 1 Axes>"
      ]
     },
     "metadata": {
      "needs_background": "light"
     },
     "output_type": "display_data"
    }
   ],
   "source": [
    "#numerical attribute visualization\n",
    "sns.distplot(train_df['Annual Income'])"
   ]
  },
  {
   "cell_type": "code",
   "execution_count": 23,
   "id": "13bd3d9c",
   "metadata": {},
   "outputs": [
    {
     "data": {
      "text/plain": [
       "<AxesSubplot:xlabel='Annual Income', ylabel='Density'>"
      ]
     },
     "execution_count": 23,
     "metadata": {},
     "output_type": "execute_result"
    },
    {
     "data": {
      "image/png": "[encoded data removed]",
      "text/plain": [
       "<Figure size 432x288 with 1 Axes>"
      ]
     },
     "metadata": {
      "needs_background": "light"
     },
     "output_type": "display_data"
    }
   ],
   "source": [
    "train_df['Annual Income'] = np.log(train_df['Annual Income'])\n",
    "sns.distplot(train_df['Annual Income'])"
   ]
  },
  {
   "cell_type": "code",
   "execution_count": 24,
   "id": "061c2e1a",
   "metadata": {},
   "outputs": [
    {
     "data": {
      "text/plain": [
       "<AxesSubplot:xlabel='Credit Score', ylabel='Density'>"
      ]
     },
     "execution_count": 24,
     "metadata": {},
     "output_type": "execute_result"
    },
    {
     "data": {
      "image/png": "[encoded data removed]",
      "text/plain": [
       "<Figure size 432x288 with 1 Axes>"
      ]
     },
     "metadata": {
      "needs_background": "light"
     },
     "output_type": "display_data"
    }
   ],
   "source": [
    "sns.distplot(train_df['Credit Score'])"
   ]
  },
  {
   "cell_type": "code",
   "execution_count": 25,
   "id": "327d2f68",
   "metadata": {},
   "outputs": [
    {
     "data": {
      "text/plain": [
       "<AxesSubplot:xlabel='Credit Score', ylabel='Density'>"
      ]
     },
     "execution_count": 25,
     "metadata": {},
     "output_type": "execute_result"
    },
    {
     "data": {
      "image/png": "[encoded data removed]",
      "text/plain": [
       "<Figure size 432x288 with 1 Axes>"
      ]
     },
     "metadata": {
      "needs_background": "light"
     },
     "output_type": "display_data"
    }
   ],
   "source": [
    "train_df['Credit Score'] = np.log(train_df['Credit Score'])\n",
    "sns.distplot(train_df['Credit Score'])"
   ]
  },
  {
   "cell_type": "code",
   "execution_count": 26,
   "id": "7a70bed4",
   "metadata": {},
   "outputs": [
    {
     "data": {
      "text/plain": [
       "<AxesSubplot:xlabel='Current Credit Balance', ylabel='Density'>"
      ]
     },
     "execution_count": 26,
     "metadata": {},
     "output_type": "execute_result"
    },
    {
     "data": {
      "image/png": "[encoded data removed]",
      "text/plain": [
       "<Figure size 432x288 with 1 Axes>"
      ]
     },
     "metadata": {
      "needs_background": "light"
     },
     "output_type": "display_data"
    }
   ],
   "source": [
    " sns.distplot(train_df['Current Credit Balance'])"
   ]
  },
  {
   "cell_type": "markdown",
   "id": "05cc866d",
   "metadata": {},
   "source": [
    "### Correlation Matrix"
   ]
  },
  {
   "cell_type": "code",
   "execution_count": 27,
   "id": "7767d5c8",
   "metadata": {},
   "outputs": [
    {
     "data": {
      "image/png": "[encoded data removed]",
      "text/plain": [
       "<Figure size 720x720 with 2 Axes>"
      ]
     },
     "metadata": {
      "needs_background": "light"
     },
     "output_type": "display_data"
    }
   ],
   "source": [
    "import pandas as pd\n",
    "import seaborn as sns\n",
    "import matplotlib.pyplot as plt\n",
    "\n",
    "corr = train_df.corr()\n",
    "\n",
    "plt.figure(figsize=(10, 10))\n",
    "sns.heatmap(corr, annot=True, cmap=\"BuPu\")\n",
    "\n",
    "# Display the heatmap\n",
    "plt.show()"
   ]
  },
  {
   "cell_type": "code",
   "execution_count": 28,
   "id": "458fc220",
   "metadata": {},
   "outputs": [
    {
     "data": {
      "text/html": [
       "<div>\n",
       "<style scoped>\n",
       "    .dataframe tbody tr th:only-of-type {\n",
       "        vertical-align: middle;\n",
       "    }\n",
       "\n",
       "    .dataframe tbody tr th {\n",
       "        vertical-align: top;\n",
       "    }\n",
       "\n",
       "    .dataframe thead th {\n",
       "        text-align: right;\n",
       "    }\n",
       "</style>\n",
       "<table border=\"1\" class=\"dataframe\">\n",
       "  <thead>\n",
       "    <tr style=\"text-align: right;\">\n",
       "      <th></th>\n",
       "      <th>Loan ID</th>\n",
       "      <th>Customer ID</th>\n",
       "      <th>Loan Status</th>\n",
       "      <th>Current Loan Amount</th>\n",
       "      <th>Term</th>\n",
       "      <th>Credit Score</th>\n",
       "      <th>Annual Income</th>\n",
       "      <th>Years in current job</th>\n",
       "      <th>Home Ownership</th>\n",
       "      <th>Purpose</th>\n",
       "      <th>Monthly Debt</th>\n",
       "      <th>Years of Credit History</th>\n",
       "      <th>Number of Open Accounts</th>\n",
       "      <th>Number of Credit Problems</th>\n",
       "      <th>Current Credit Balance</th>\n",
       "      <th>Maximum Open Credit</th>\n",
       "      <th>Bankruptcies</th>\n",
       "      <th>Tax Liens</th>\n",
       "    </tr>\n",
       "  </thead>\n",
       "  <tbody>\n",
       "    <tr>\n",
       "      <th>0</th>\n",
       "      <td>14dd8831-6af5-400b-83ec-68e61888a048</td>\n",
       "      <td>981165ec-3274-42f5-a3b4-d104041a9ca9</td>\n",
       "      <td>Fully Paid</td>\n",
       "      <td>445412.0</td>\n",
       "      <td>Short Term</td>\n",
       "      <td>6.563856</td>\n",
       "      <td>13.970369</td>\n",
       "      <td>8 years</td>\n",
       "      <td>Home Mortgage</td>\n",
       "      <td>Home Improvements</td>\n",
       "      <td>5214.74</td>\n",
       "      <td>17.2</td>\n",
       "      <td>6.0</td>\n",
       "      <td>1.0</td>\n",
       "      <td>228190.0</td>\n",
       "      <td>416746.0</td>\n",
       "      <td>1.0</td>\n",
       "      <td>0.0</td>\n",
       "    </tr>\n",
       "    <tr>\n",
       "      <th>1</th>\n",
       "      <td>4771cc26-131a-45db-b5aa-537ea4ba5342</td>\n",
       "      <td>2de017a3-2e01-49cb-a581-08169e83be29</td>\n",
       "      <td>Fully Paid</td>\n",
       "      <td>262328.0</td>\n",
       "      <td>Short Term</td>\n",
       "      <td>6.981430</td>\n",
       "      <td>14.136344</td>\n",
       "      <td>10+ years</td>\n",
       "      <td>Home Mortgage</td>\n",
       "      <td>Debt Consolidation</td>\n",
       "      <td>33295.98</td>\n",
       "      <td>21.1</td>\n",
       "      <td>35.0</td>\n",
       "      <td>0.0</td>\n",
       "      <td>229976.0</td>\n",
       "      <td>850784.0</td>\n",
       "      <td>0.0</td>\n",
       "      <td>0.0</td>\n",
       "    </tr>\n",
       "    <tr>\n",
       "      <th>2</th>\n",
       "      <td>4eed4e6a-aa2f-4c91-8651-ce984ee8fb26</td>\n",
       "      <td>5efb2b2b-bf11-4dfd-a572-3761a2694725</td>\n",
       "      <td>Fully Paid</td>\n",
       "      <td>99999999.0</td>\n",
       "      <td>Short Term</td>\n",
       "      <td>6.608001</td>\n",
       "      <td>14.618360</td>\n",
       "      <td>8 years</td>\n",
       "      <td>Own Home</td>\n",
       "      <td>Debt Consolidation</td>\n",
       "      <td>29200.53</td>\n",
       "      <td>14.9</td>\n",
       "      <td>18.0</td>\n",
       "      <td>1.0</td>\n",
       "      <td>297996.0</td>\n",
       "      <td>750090.0</td>\n",
       "      <td>0.0</td>\n",
       "      <td>0.0</td>\n",
       "    </tr>\n",
       "    <tr>\n",
       "      <th>3</th>\n",
       "      <td>77598f7b-32e7-4e3b-a6e5-06ba0d98fe8a</td>\n",
       "      <td>e777faab-98ae-45af-9a86-7ce5b33b1011</td>\n",
       "      <td>Fully Paid</td>\n",
       "      <td>347666.0</td>\n",
       "      <td>Long Term</td>\n",
       "      <td>6.580639</td>\n",
       "      <td>13.601016</td>\n",
       "      <td>3 years</td>\n",
       "      <td>Own Home</td>\n",
       "      <td>Debt Consolidation</td>\n",
       "      <td>8741.90</td>\n",
       "      <td>12.0</td>\n",
       "      <td>9.0</td>\n",
       "      <td>0.0</td>\n",
       "      <td>256329.0</td>\n",
       "      <td>386958.0</td>\n",
       "      <td>0.0</td>\n",
       "      <td>0.0</td>\n",
       "    </tr>\n",
       "    <tr>\n",
       "      <th>4</th>\n",
       "      <td>d4062e70-befa-4995-8643-a0de73938182</td>\n",
       "      <td>81536ad9-5ccf-4eb8-befb-47a4d608658e</td>\n",
       "      <td>Fully Paid</td>\n",
       "      <td>176220.0</td>\n",
       "      <td>Short Term</td>\n",
       "      <td>6.981430</td>\n",
       "      <td>14.136344</td>\n",
       "      <td>5 years</td>\n",
       "      <td>Rent</td>\n",
       "      <td>Debt Consolidation</td>\n",
       "      <td>20639.70</td>\n",
       "      <td>6.1</td>\n",
       "      <td>15.0</td>\n",
       "      <td>0.0</td>\n",
       "      <td>253460.0</td>\n",
       "      <td>427174.0</td>\n",
       "      <td>0.0</td>\n",
       "      <td>0.0</td>\n",
       "    </tr>\n",
       "  </tbody>\n",
       "</table>\n",
       "</div>"
      ],
      "text/plain": [
       "                                Loan ID                           Customer ID  \\\n",
       "0  14dd8831-6af5-400b-83ec-68e61888a048  981165ec-3274-42f5-a3b4-d104041a9ca9   \n",
       "1  4771cc26-131a-45db-b5aa-537ea4ba5342  2de017a3-2e01-49cb-a581-08169e83be29   \n",
       "2  4eed4e6a-aa2f-4c91-8651-ce984ee8fb26  5efb2b2b-bf11-4dfd-a572-3761a2694725   \n",
       "3  77598f7b-32e7-4e3b-a6e5-06ba0d98fe8a  e777faab-98ae-45af-9a86-7ce5b33b1011   \n",
       "4  d4062e70-befa-4995-8643-a0de73938182  81536ad9-5ccf-4eb8-befb-47a4d608658e   \n",
       "\n",
       "  Loan Status  Current Loan Amount        Term  Credit Score  Annual Income  \\\n",
       "0  Fully Paid             445412.0  Short Term      6.563856      13.970369   \n",
       "1  Fully Paid             262328.0  Short Term      6.981430      14.136344   \n",
       "2  Fully Paid           99999999.0  Short Term      6.608001      14.618360   \n",
       "3  Fully Paid             347666.0   Long Term      6.580639      13.601016   \n",
       "4  Fully Paid             176220.0  Short Term      6.981430      14.136344   \n",
       "\n",
       "  Years in current job Home Ownership             Purpose  Monthly Debt  \\\n",
       "0              8 years  Home Mortgage   Home Improvements       5214.74   \n",
       "1            10+ years  Home Mortgage  Debt Consolidation      33295.98   \n",
       "2              8 years       Own Home  Debt Consolidation      29200.53   \n",
       "3              3 years       Own Home  Debt Consolidation       8741.90   \n",
       "4              5 years           Rent  Debt Consolidation      20639.70   \n",
       "\n",
       "   Years of Credit History  Number of Open Accounts  \\\n",
       "0                     17.2                      6.0   \n",
       "1                     21.1                     35.0   \n",
       "2                     14.9                     18.0   \n",
       "3                     12.0                      9.0   \n",
       "4                      6.1                     15.0   \n",
       "\n",
       "   Number of Credit Problems  Current Credit Balance  Maximum Open Credit  \\\n",
       "0                        1.0                228190.0             416746.0   \n",
       "1                        0.0                229976.0             850784.0   \n",
       "2                        1.0                297996.0             750090.0   \n",
       "3                        0.0                256329.0             386958.0   \n",
       "4                        0.0                253460.0             427174.0   \n",
       "\n",
       "   Bankruptcies  Tax Liens  \n",
       "0           1.0        0.0  \n",
       "1           0.0        0.0  \n",
       "2           0.0        0.0  \n",
       "3           0.0        0.0  \n",
       "4           0.0        0.0  "
      ]
     },
     "execution_count": 28,
     "metadata": {},
     "output_type": "execute_result"
    }
   ],
   "source": [
    "\n",
    "train_df.head()"
   ]
  },
  {
   "cell_type": "code",
   "execution_count": 29,
   "id": "65964200",
   "metadata": {},
   "outputs": [],
   "source": [
    "train_df.drop('Years in current job', axis=1, inplace=True)\n"
   ]
  },
  {
   "cell_type": "code",
   "execution_count": 30,
   "id": "4d84f825",
   "metadata": {},
   "outputs": [],
   "source": [
    "train_df.drop('Loan ID', axis=1, inplace=True)\n",
    "train_df.drop('Customer ID', axis=1, inplace=True)"
   ]
  },
  {
   "cell_type": "markdown",
   "id": "c490a17a",
   "metadata": {},
   "source": [
    "## IV) ENCODING THE CATEGORICAL DATA"
   ]
  },
  {
   "cell_type": "code",
   "execution_count": 31,
   "id": "f8d4b461",
   "metadata": {},
   "outputs": [],
   "source": [
    "from sklearn.preprocessing import LabelEncoder\n",
    "cols=['Loan Status','Term','Home Ownership','Purpose']\n",
    "le=LabelEncoder()\n",
    "for col in cols:\n",
    "    train_df[col]=le.fit_transform(train_df[col])\n"
   ]
  },
  {
   "cell_type": "code",
   "execution_count": null,
   "id": "259f52dd",
   "metadata": {},
   "outputs": [],
   "source": []
  },
  {
   "cell_type": "code",
   "execution_count": 33,
   "id": "8150843c",
   "metadata": {
    "scrolled": true
   },
   "outputs": [
    {
     "data": {
      "text/html": [
       "<div>\n",
       "<style scoped>\n",
       "    .dataframe tbody tr th:only-of-type {\n",
       "        vertical-align: middle;\n",
       "    }\n",
       "\n",
       "    .dataframe tbody tr th {\n",
       "        vertical-align: top;\n",
       "    }\n",
       "\n",
       "    .dataframe thead th {\n",
       "        text-align: right;\n",
       "    }\n",
       "</style>\n",
       "<table border=\"1\" class=\"dataframe\">\n",
       "  <thead>\n",
       "    <tr style=\"text-align: right;\">\n",
       "      <th></th>\n",
       "      <th>Loan Status</th>\n",
       "      <th>Current Loan Amount</th>\n",
       "      <th>Term</th>\n",
       "      <th>Credit Score</th>\n",
       "      <th>Annual Income</th>\n",
       "      <th>Home Ownership</th>\n",
       "      <th>Purpose</th>\n",
       "      <th>Monthly Debt</th>\n",
       "      <th>Years of Credit History</th>\n",
       "      <th>Number of Open Accounts</th>\n",
       "      <th>Number of Credit Problems</th>\n",
       "      <th>Current Credit Balance</th>\n",
       "      <th>Maximum Open Credit</th>\n",
       "      <th>Bankruptcies</th>\n",
       "      <th>Tax Liens</th>\n",
       "    </tr>\n",
       "  </thead>\n",
       "  <tbody>\n",
       "    <tr>\n",
       "      <th>0</th>\n",
       "      <td>1</td>\n",
       "      <td>4.454120e+05</td>\n",
       "      <td>1</td>\n",
       "      <td>6.563856</td>\n",
       "      <td>13.970369</td>\n",
       "      <td>1</td>\n",
       "      <td>5</td>\n",
       "      <td>5214.740000</td>\n",
       "      <td>17.200000</td>\n",
       "      <td>6.00000</td>\n",
       "      <td>1.00000</td>\n",
       "      <td>228190.00000</td>\n",
       "      <td>416746.000000</td>\n",
       "      <td>1.00000</td>\n",
       "      <td>0.000000</td>\n",
       "    </tr>\n",
       "    <tr>\n",
       "      <th>1</th>\n",
       "      <td>1</td>\n",
       "      <td>2.623280e+05</td>\n",
       "      <td>1</td>\n",
       "      <td>6.981430</td>\n",
       "      <td>14.136344</td>\n",
       "      <td>1</td>\n",
       "      <td>3</td>\n",
       "      <td>33295.980000</td>\n",
       "      <td>21.100000</td>\n",
       "      <td>35.00000</td>\n",
       "      <td>0.00000</td>\n",
       "      <td>229976.00000</td>\n",
       "      <td>850784.000000</td>\n",
       "      <td>0.00000</td>\n",
       "      <td>0.000000</td>\n",
       "    </tr>\n",
       "    <tr>\n",
       "      <th>2</th>\n",
       "      <td>1</td>\n",
       "      <td>1.000000e+08</td>\n",
       "      <td>1</td>\n",
       "      <td>6.608001</td>\n",
       "      <td>14.618360</td>\n",
       "      <td>2</td>\n",
       "      <td>3</td>\n",
       "      <td>29200.530000</td>\n",
       "      <td>14.900000</td>\n",
       "      <td>18.00000</td>\n",
       "      <td>1.00000</td>\n",
       "      <td>297996.00000</td>\n",
       "      <td>750090.000000</td>\n",
       "      <td>0.00000</td>\n",
       "      <td>0.000000</td>\n",
       "    </tr>\n",
       "    <tr>\n",
       "      <th>3</th>\n",
       "      <td>1</td>\n",
       "      <td>3.476660e+05</td>\n",
       "      <td>0</td>\n",
       "      <td>6.580639</td>\n",
       "      <td>13.601016</td>\n",
       "      <td>2</td>\n",
       "      <td>3</td>\n",
       "      <td>8741.900000</td>\n",
       "      <td>12.000000</td>\n",
       "      <td>9.00000</td>\n",
       "      <td>0.00000</td>\n",
       "      <td>256329.00000</td>\n",
       "      <td>386958.000000</td>\n",
       "      <td>0.00000</td>\n",
       "      <td>0.000000</td>\n",
       "    </tr>\n",
       "    <tr>\n",
       "      <th>4</th>\n",
       "      <td>1</td>\n",
       "      <td>1.762200e+05</td>\n",
       "      <td>1</td>\n",
       "      <td>6.981430</td>\n",
       "      <td>14.136344</td>\n",
       "      <td>3</td>\n",
       "      <td>3</td>\n",
       "      <td>20639.700000</td>\n",
       "      <td>6.100000</td>\n",
       "      <td>15.00000</td>\n",
       "      <td>0.00000</td>\n",
       "      <td>253460.00000</td>\n",
       "      <td>427174.000000</td>\n",
       "      <td>0.00000</td>\n",
       "      <td>0.000000</td>\n",
       "    </tr>\n",
       "    <tr>\n",
       "      <th>...</th>\n",
       "      <td>...</td>\n",
       "      <td>...</td>\n",
       "      <td>...</td>\n",
       "      <td>...</td>\n",
       "      <td>...</td>\n",
       "      <td>...</td>\n",
       "      <td>...</td>\n",
       "      <td>...</td>\n",
       "      <td>...</td>\n",
       "      <td>...</td>\n",
       "      <td>...</td>\n",
       "      <td>...</td>\n",
       "      <td>...</td>\n",
       "      <td>...</td>\n",
       "      <td>...</td>\n",
       "    </tr>\n",
       "    <tr>\n",
       "      <th>100509</th>\n",
       "      <td>1</td>\n",
       "      <td>1.176045e+07</td>\n",
       "      <td>1</td>\n",
       "      <td>6.981430</td>\n",
       "      <td>14.136344</td>\n",
       "      <td>1</td>\n",
       "      <td>3</td>\n",
       "      <td>18472.412336</td>\n",
       "      <td>18.199141</td>\n",
       "      <td>11.12853</td>\n",
       "      <td>0.16831</td>\n",
       "      <td>294637.38235</td>\n",
       "      <td>760798.381748</td>\n",
       "      <td>0.11774</td>\n",
       "      <td>0.029313</td>\n",
       "    </tr>\n",
       "    <tr>\n",
       "      <th>100510</th>\n",
       "      <td>1</td>\n",
       "      <td>1.176045e+07</td>\n",
       "      <td>1</td>\n",
       "      <td>6.981430</td>\n",
       "      <td>14.136344</td>\n",
       "      <td>1</td>\n",
       "      <td>3</td>\n",
       "      <td>18472.412336</td>\n",
       "      <td>18.199141</td>\n",
       "      <td>11.12853</td>\n",
       "      <td>0.16831</td>\n",
       "      <td>294637.38235</td>\n",
       "      <td>760798.381748</td>\n",
       "      <td>0.11774</td>\n",
       "      <td>0.029313</td>\n",
       "    </tr>\n",
       "    <tr>\n",
       "      <th>100511</th>\n",
       "      <td>1</td>\n",
       "      <td>1.176045e+07</td>\n",
       "      <td>1</td>\n",
       "      <td>6.981430</td>\n",
       "      <td>14.136344</td>\n",
       "      <td>1</td>\n",
       "      <td>3</td>\n",
       "      <td>18472.412336</td>\n",
       "      <td>18.199141</td>\n",
       "      <td>11.12853</td>\n",
       "      <td>0.16831</td>\n",
       "      <td>294637.38235</td>\n",
       "      <td>760798.381748</td>\n",
       "      <td>0.11774</td>\n",
       "      <td>0.029313</td>\n",
       "    </tr>\n",
       "    <tr>\n",
       "      <th>100512</th>\n",
       "      <td>1</td>\n",
       "      <td>1.176045e+07</td>\n",
       "      <td>1</td>\n",
       "      <td>6.981430</td>\n",
       "      <td>14.136344</td>\n",
       "      <td>1</td>\n",
       "      <td>3</td>\n",
       "      <td>18472.412336</td>\n",
       "      <td>18.199141</td>\n",
       "      <td>11.12853</td>\n",
       "      <td>0.16831</td>\n",
       "      <td>294637.38235</td>\n",
       "      <td>760798.381748</td>\n",
       "      <td>0.11774</td>\n",
       "      <td>0.029313</td>\n",
       "    </tr>\n",
       "    <tr>\n",
       "      <th>100513</th>\n",
       "      <td>1</td>\n",
       "      <td>1.176045e+07</td>\n",
       "      <td>1</td>\n",
       "      <td>6.981430</td>\n",
       "      <td>14.136344</td>\n",
       "      <td>1</td>\n",
       "      <td>3</td>\n",
       "      <td>18472.412336</td>\n",
       "      <td>18.199141</td>\n",
       "      <td>11.12853</td>\n",
       "      <td>0.16831</td>\n",
       "      <td>294637.38235</td>\n",
       "      <td>760798.381748</td>\n",
       "      <td>0.11774</td>\n",
       "      <td>0.029313</td>\n",
       "    </tr>\n",
       "  </tbody>\n",
       "</table>\n",
       "<p>100514 rows × 15 columns</p>\n",
       "</div>"
      ],
      "text/plain": [
       "        Loan Status  Current Loan Amount  Term  Credit Score  Annual Income  \\\n",
       "0                 1         4.454120e+05     1      6.563856      13.970369   \n",
       "1                 1         2.623280e+05     1      6.981430      14.136344   \n",
       "2                 1         1.000000e+08     1      6.608001      14.618360   \n",
       "3                 1         3.476660e+05     0      6.580639      13.601016   \n",
       "4                 1         1.762200e+05     1      6.981430      14.136344   \n",
       "...             ...                  ...   ...           ...            ...   \n",
       "100509            1         1.176045e+07     1      6.981430      14.136344   \n",
       "100510            1         1.176045e+07     1      6.981430      14.136344   \n",
       "100511            1         1.176045e+07     1      6.981430      14.136344   \n",
       "100512            1         1.176045e+07     1      6.981430      14.136344   \n",
       "100513            1         1.176045e+07     1      6.981430      14.136344   \n",
       "\n",
       "        Home Ownership  Purpose  Monthly Debt  Years of Credit History  \\\n",
       "0                    1        5   5214.740000                17.200000   \n",
       "1                    1        3  33295.980000                21.100000   \n",
       "2                    2        3  29200.530000                14.900000   \n",
       "3                    2        3   8741.900000                12.000000   \n",
       "4                    3        3  20639.700000                 6.100000   \n",
       "...                ...      ...           ...                      ...   \n",
       "100509               1        3  18472.412336                18.199141   \n",
       "100510               1        3  18472.412336                18.199141   \n",
       "100511               1        3  18472.412336                18.199141   \n",
       "100512               1        3  18472.412336                18.199141   \n",
       "100513               1        3  18472.412336                18.199141   \n",
       "\n",
       "        Number of Open Accounts  Number of Credit Problems  \\\n",
       "0                       6.00000                    1.00000   \n",
       "1                      35.00000                    0.00000   \n",
       "2                      18.00000                    1.00000   \n",
       "3                       9.00000                    0.00000   \n",
       "4                      15.00000                    0.00000   \n",
       "...                         ...                        ...   \n",
       "100509                 11.12853                    0.16831   \n",
       "100510                 11.12853                    0.16831   \n",
       "100511                 11.12853                    0.16831   \n",
       "100512                 11.12853                    0.16831   \n",
       "100513                 11.12853                    0.16831   \n",
       "\n",
       "        Current Credit Balance  Maximum Open Credit  Bankruptcies  Tax Liens  \n",
       "0                 228190.00000        416746.000000       1.00000   0.000000  \n",
       "1                 229976.00000        850784.000000       0.00000   0.000000  \n",
       "2                 297996.00000        750090.000000       0.00000   0.000000  \n",
       "3                 256329.00000        386958.000000       0.00000   0.000000  \n",
       "4                 253460.00000        427174.000000       0.00000   0.000000  \n",
       "...                        ...                  ...           ...        ...  \n",
       "100509            294637.38235        760798.381748       0.11774   0.029313  \n",
       "100510            294637.38235        760798.381748       0.11774   0.029313  \n",
       "100511            294637.38235        760798.381748       0.11774   0.029313  \n",
       "100512            294637.38235        760798.381748       0.11774   0.029313  \n",
       "100513            294637.38235        760798.381748       0.11774   0.029313  \n",
       "\n",
       "[100514 rows x 15 columns]"
      ]
     },
     "execution_count": 33,
     "metadata": {},
     "output_type": "execute_result"
    }
   ],
   "source": [
    "train_df"
   ]
  },
  {
   "cell_type": "markdown",
   "id": "e55ad086",
   "metadata": {},
   "source": [
    "#### As you can see above all the categorical data has been labled and given numerical values this makes the data set suitable to build our model"
   ]
  },
  {
   "cell_type": "markdown",
   "id": "f966b910",
   "metadata": {},
   "source": [
    "## V) MODEL"
   ]
  },
  {
   "cell_type": "markdown",
   "id": "ccebf68a",
   "metadata": {},
   "source": [
    "#### Splitting our dataset into training and testing dataset"
   ]
  },
  {
   "cell_type": "code",
   "execution_count": 34,
   "id": "3ca8b38f",
   "metadata": {},
   "outputs": [],
   "source": [
    "X=train_df.drop(columns=['Loan Status'],axis=1)\n",
    "y=train_df['Loan Status']"
   ]
  },
  {
   "cell_type": "code",
   "execution_count": 35,
   "id": "816ce137",
   "metadata": {},
   "outputs": [],
   "source": [
    "from sklearn.model_selection import train_test_split\n",
    "X_train,X_test,y_train,y_test = train_test_split(X,y,test_size=0.3,random_state=42)"
   ]
  },
  {
   "cell_type": "code",
   "execution_count": 36,
   "id": "4cf68d81",
   "metadata": {},
   "outputs": [
    {
     "name": "stdout",
     "output_type": "stream",
     "text": [
      "(70359, 14)\n",
      "(30155, 14)\n",
      "(70359,)\n",
      "(30155,)\n"
     ]
    }
   ],
   "source": [
    "print(X_train.shape)\n",
    "print(X_test.shape)\n",
    "print(y_train.shape)\n",
    "print(y_test.shape)"
   ]
  },
  {
   "cell_type": "code",
   "execution_count": 57,
   "id": "a1405013",
   "metadata": {},
   "outputs": [],
   "source": [
    "X_train = X_train.fillna(0)\n"
   ]
  },
  {
   "cell_type": "markdown",
   "id": "191b76f9",
   "metadata": {},
   "source": [
    "### A) Gaussian classifier"
   ]
  },
  {
   "cell_type": "code",
   "execution_count": 58,
   "id": "12d0c4f5",
   "metadata": {},
   "outputs": [
    {
     "data": {
      "text/plain": [
       "GaussianNB()"
      ]
     },
     "execution_count": 58,
     "metadata": {},
     "output_type": "execute_result"
    }
   ],
   "source": [
    "from sklearn.naive_bayes import GaussianNB\n",
    "gfc= GaussianNB()\n",
    "gfc.fit (X_train,y_train)"
   ]
  },
  {
   "cell_type": "markdown",
   "id": "7915bc42",
   "metadata": {},
   "source": [
    "### Define metrics to measure your model"
   ]
  },
  {
   "cell_type": "code",
   "execution_count": 59,
   "id": "36ca4e15",
   "metadata": {},
   "outputs": [
    {
     "name": "stdout",
     "output_type": "stream",
     "text": [
      "Accuracy of GaussianNB is 0.3546343889902172\n"
     ]
    }
   ],
   "source": [
    "from sklearn import metrics\n",
    "\n",
    "pred1 = gfc.predict(X_test)\n",
    "print('Accuracy of GaussianNB is', metrics.accuracy_score(pred1, y_test))\n"
   ]
  },
  {
   "cell_type": "markdown",
   "id": "253a843c",
   "metadata": {},
   "source": [
    "### B) Random Forest Classifier"
   ]
  },
  {
   "cell_type": "code",
   "execution_count": 60,
   "id": "53cf7a7b",
   "metadata": {},
   "outputs": [
    {
     "data": {
      "text/plain": [
       "RandomForestClassifier()"
      ]
     },
     "execution_count": 60,
     "metadata": {},
     "output_type": "execute_result"
    }
   ],
   "source": [
    "from sklearn.ensemble import RandomForestClassifier\n",
    "RFC = RandomForestClassifier()\n",
    "RFC.fit (X_train,y_train)"
   ]
  },
  {
   "cell_type": "markdown",
   "id": "dd643794",
   "metadata": {},
   "source": [
    "### Define metrics to measure your model"
   ]
  },
  {
   "cell_type": "code",
   "execution_count": 68,
   "id": "7924a3a0",
   "metadata": {},
   "outputs": [
    {
     "name": "stdout",
     "output_type": "stream",
     "text": [
      "Accuracy of RandomForestClassifier is 0.8174432100812469\n"
     ]
    }
   ],
   "source": [
    "from sklearn import metrics\n",
    "\n",
    "pred2 = RFC.predict(X_test)\n",
    "print('Accuracy of RandomForestClassifier is', metrics.accuracy_score(pred2, y_test))"
   ]
  },
  {
   "cell_type": "markdown",
   "id": "5b792572",
   "metadata": {},
   "source": [
    "### C) Decision Tree Classifier "
   ]
  },
  {
   "cell_type": "code",
   "execution_count": 62,
   "id": "ec22b788",
   "metadata": {},
   "outputs": [],
   "source": [
    "from sklearn.tree import DecisionTreeClassifier"
   ]
  },
  {
   "cell_type": "code",
   "execution_count": 63,
   "id": "f8516660",
   "metadata": {},
   "outputs": [
    {
     "data": {
      "text/plain": [
       "DecisionTreeClassifier()"
      ]
     },
     "execution_count": 63,
     "metadata": {},
     "output_type": "execute_result"
    }
   ],
   "source": [
    "DTC = DecisionTreeClassifier()\n",
    "DTC.fit (X_train,y_train)"
   ]
  },
  {
   "cell_type": "markdown",
   "id": "16e971b2",
   "metadata": {},
   "source": [
    "### Define metrics to measure your model"
   ]
  },
  {
   "cell_type": "code",
   "execution_count": 64,
   "id": "ccccf072",
   "metadata": {},
   "outputs": [
    {
     "name": "stdout",
     "output_type": "stream",
     "text": [
      "Accuracy of DecisionTreeClassifier is 0.751848781296634\n"
     ]
    }
   ],
   "source": [
    "from sklearn import metrics\n",
    "\n",
    "pred3 = DTC.predict(X_test)\n",
    "print('Accuracy of DecisionTreeClassifier is', metrics.accuracy_score(pred3, y_test))"
   ]
  },
  {
   "cell_type": "markdown",
   "id": "4124292d",
   "metadata": {},
   "source": [
    "### D) K-Nearest Neighbours "
   ]
  },
  {
   "cell_type": "code",
   "execution_count": 65,
   "id": "628ef247",
   "metadata": {},
   "outputs": [],
   "source": [
    "from sklearn.neighbors import KNeighborsClassifier"
   ]
  },
  {
   "cell_type": "code",
   "execution_count": 66,
   "id": "8eb3f4ad",
   "metadata": {},
   "outputs": [
    {
     "data": {
      "text/plain": [
       "KNeighborsClassifier()"
      ]
     },
     "execution_count": 66,
     "metadata": {},
     "output_type": "execute_result"
    }
   ],
   "source": [
    "KNC = KNeighborsClassifier()\n",
    "KNC.fit (X_train,y_train)"
   ]
  },
  {
   "cell_type": "markdown",
   "id": "2bba4497",
   "metadata": {},
   "source": [
    "### Define metrics to measure your model"
   ]
  },
  {
   "cell_type": "code",
   "execution_count": 67,
   "id": "a8e5e8cc",
   "metadata": {},
   "outputs": [
    {
     "name": "stdout",
     "output_type": "stream",
     "text": [
      "Accuracy of KNeighborsClassifier is 0.7357983750621787\n"
     ]
    }
   ],
   "source": [
    "from sklearn import metrics\n",
    "\n",
    "pred4 = KNC.predict(X_test)\n",
    "print('Accuracy of KNeighborsClassifier is', metrics.accuracy_score(pred4, y_test))"
   ]
  },
  {
   "cell_type": "markdown",
   "id": "26d83610",
   "metadata": {},
   "source": [
    "### E) K-means clustering"
   ]
  },
  {
   "cell_type": "code",
   "execution_count": 69,
   "id": "582125ff",
   "metadata": {},
   "outputs": [
    {
     "data": {
      "text/plain": [
       "PCA(n_components=2)"
      ]
     },
     "execution_count": 69,
     "metadata": {},
     "output_type": "execute_result"
    }
   ],
   "source": [
    "from sklearn.decomposition import PCA\n",
    "\n",
    "# Create an instance of the PCA algorithm\n",
    "pca = PCA(n_components=2)\n",
    "\n",
    "# Fit the model on the data\n",
    "pca.fit(X)\n"
   ]
  },
  {
   "cell_type": "code",
   "execution_count": 70,
   "id": "fd5c0cdc",
   "metadata": {},
   "outputs": [],
   "source": [
    "from sklearn.ensemble import RandomForestClassifier\n",
    "import pickle\n",
    "\n",
    "# Train your Random Forest Classifier\n",
    "RFC = RandomForestClassifier()\n",
    "RFC.fit(X_train, y_train)\n",
    "\n",
    "# Save the trained model\n",
    "with open('random_forest_model.pkl', 'wb') as file:\n",
    "    pickle.dump(RFC, file)\n"
   ]
  },
  {
   "cell_type": "code",
   "execution_count": 52,
   "id": "b12e8a0f",
   "metadata": {},
   "outputs": [
    {
     "data": {
      "text/plain": [
       "Index(['Current Loan Amount', 'Term', 'Credit Score', 'Annual Income',\n",
       "       'Home Ownership', 'Purpose', 'Monthly Debt', 'Years of Credit History',\n",
       "       'Number of Open Accounts', 'Number of Credit Problems',\n",
       "       'Current Credit Balance', 'Maximum Open Credit', 'Bankruptcies',\n",
       "       'Tax Liens'],\n",
       "      dtype='object')"
      ]
     },
     "execution_count": 52,
     "metadata": {},
     "output_type": "execute_result"
    }
   ],
   "source": [
    "\n",
    "X_train.columns\n"
   ]
  },
  {
   "cell_type": "code",
   "execution_count": 56,
   "id": "003831c9",
   "metadata": {},
   "outputs": [
    {
     "data": {
      "text/plain": [
       "<bound method DataFrame.isnull of        Current Loan Amount  Term  Credit Score  Annual Income  Home Ownership  \\\n",
       "31567             570482.0     0      6.505784      14.300734               3   \n",
       "65833             408584.0     0      6.603944      14.615564               1   \n",
       "28627              26268.0     1      6.608001      13.919630               3   \n",
       "23743             332046.0     1      6.612041      13.469282               1   \n",
       "90330             168168.0     1      6.526495      13.438210               1   \n",
       "...                    ...   ...           ...            ...             ...   \n",
       "6265              276254.0     1      6.591674      14.684683               3   \n",
       "54886             136510.0     1      6.573680      13.554508               1   \n",
       "76820             267872.0     1      6.981430      14.136344               1   \n",
       "860               216942.0     1      6.599870      13.303926               2   \n",
       "15795             216964.0     1      6.981430      14.136344               1   \n",
       "\n",
       "       Purpose  Monthly Debt  Years of Credit History  \\\n",
       "31567        3      26534.26                     22.8   \n",
       "65833        3      31122.19                     21.5   \n",
       "28627        3      11800.14                     15.4   \n",
       "23743        3      11376.63                     11.4   \n",
       "90330        3       7485.62                     11.7   \n",
       "...        ...           ...                      ...   \n",
       "6265         3      36370.37                     20.2   \n",
       "54886        3       6611.62                      6.9   \n",
       "76820        3      15797.93                     18.5   \n",
       "860          7      11691.27                     14.0   \n",
       "15795        3      17488.55                     18.9   \n",
       "\n",
       "       Number of Open Accounts  Number of Credit Problems  \\\n",
       "31567                     18.0                        0.0   \n",
       "65833                     15.0                        0.0   \n",
       "28627                      4.0                        0.0   \n",
       "23743                      6.0                        0.0   \n",
       "90330                     12.0                        0.0   \n",
       "...                        ...                        ...   \n",
       "6265                      18.0                        0.0   \n",
       "54886                      6.0                        0.0   \n",
       "76820                     13.0                        0.0   \n",
       "860                       12.0                        1.0   \n",
       "15795                     10.0                        0.0   \n",
       "\n",
       "       Current Credit Balance  Maximum Open Credit  Bankruptcies  Tax Liens  \n",
       "31567                207556.0             651288.0           0.0        0.0  \n",
       "65833                642333.0            1167584.0           0.0        0.0  \n",
       "28627                186637.0             256058.0           0.0        0.0  \n",
       "23743                 46873.0              95238.0           0.0        0.0  \n",
       "90330                229330.0             388212.0           0.0        0.0  \n",
       "...                       ...                  ...           ...        ...  \n",
       "6265                 372951.0             901538.0           0.0        0.0  \n",
       "54886                 91523.0             145794.0           0.0        0.0  \n",
       "76820                141322.0             361240.0           0.0        0.0  \n",
       "860                  159296.0             312620.0           1.0        0.0  \n",
       "15795                105849.0             214632.0           0.0        0.0  \n",
       "\n",
       "[70359 rows x 14 columns]>"
      ]
     },
     "execution_count": 56,
     "metadata": {},
     "output_type": "execute_result"
    }
   ],
   "source": [
    "X_train.isnull"
   ]
  },
  {
   "cell_type": "code",
   "execution_count": 74,
   "id": "841e10f1",
   "metadata": {},
   "outputs": [
    {
     "ename": "FileNotFoundError",
     "evalue": "[Errno 2] No such file or directory: 'model.pkl'",
     "output_type": "error",
     "traceback": [
      "\u001b[1;31m---------------------------------------------------------------------------\u001b[0m",
      "\u001b[1;31mFileNotFoundError\u001b[0m                         Traceback (most recent call last)",
      "\u001b[1;32m<ipython-input-74-9ee08a7126c8>\u001b[0m in \u001b[0;36m<module>\u001b[1;34m\u001b[0m\n\u001b[0;32m      3\u001b[0m \u001b[1;33m\u001b[0m\u001b[0m\n\u001b[0;32m      4\u001b[0m \u001b[1;31m# Load the trained model\u001b[0m\u001b[1;33m\u001b[0m\u001b[1;33m\u001b[0m\u001b[1;33m\u001b[0m\u001b[0m\n\u001b[1;32m----> 5\u001b[1;33m \u001b[0mmodel\u001b[0m \u001b[1;33m=\u001b[0m \u001b[0mjoblib\u001b[0m\u001b[1;33m.\u001b[0m\u001b[0mload\u001b[0m\u001b[1;33m(\u001b[0m\u001b[1;34m'model.pkl'\u001b[0m\u001b[1;33m)\u001b[0m  \u001b[1;31m# Replace 'model.pkl' with the path to your saved model file\u001b[0m\u001b[1;33m\u001b[0m\u001b[1;33m\u001b[0m\u001b[0m\n\u001b[0m\u001b[0;32m      6\u001b[0m \u001b[1;33m\u001b[0m\u001b[0m\n\u001b[0;32m      7\u001b[0m \u001b[1;31m# Prepare the new data\u001b[0m\u001b[1;33m\u001b[0m\u001b[1;33m\u001b[0m\u001b[1;33m\u001b[0m\u001b[0m\n",
      "\u001b[1;32m~\\anaconda3\\lib\\site-packages\\joblib\\numpy_pickle.py\u001b[0m in \u001b[0;36mload\u001b[1;34m(filename, mmap_mode)\u001b[0m\n\u001b[0;32m    575\u001b[0m             \u001b[0mobj\u001b[0m \u001b[1;33m=\u001b[0m \u001b[0m_unpickle\u001b[0m\u001b[1;33m(\u001b[0m\u001b[0mfobj\u001b[0m\u001b[1;33m)\u001b[0m\u001b[1;33m\u001b[0m\u001b[1;33m\u001b[0m\u001b[0m\n\u001b[0;32m    576\u001b[0m     \u001b[1;32melse\u001b[0m\u001b[1;33m:\u001b[0m\u001b[1;33m\u001b[0m\u001b[1;33m\u001b[0m\u001b[0m\n\u001b[1;32m--> 577\u001b[1;33m         \u001b[1;32mwith\u001b[0m \u001b[0mopen\u001b[0m\u001b[1;33m(\u001b[0m\u001b[0mfilename\u001b[0m\u001b[1;33m,\u001b[0m \u001b[1;34m'rb'\u001b[0m\u001b[1;33m)\u001b[0m \u001b[1;32mas\u001b[0m \u001b[0mf\u001b[0m\u001b[1;33m:\u001b[0m\u001b[1;33m\u001b[0m\u001b[1;33m\u001b[0m\u001b[0m\n\u001b[0m\u001b[0;32m    578\u001b[0m             \u001b[1;32mwith\u001b[0m \u001b[0m_read_fileobject\u001b[0m\u001b[1;33m(\u001b[0m\u001b[0mf\u001b[0m\u001b[1;33m,\u001b[0m \u001b[0mfilename\u001b[0m\u001b[1;33m,\u001b[0m \u001b[0mmmap_mode\u001b[0m\u001b[1;33m)\u001b[0m \u001b[1;32mas\u001b[0m \u001b[0mfobj\u001b[0m\u001b[1;33m:\u001b[0m\u001b[1;33m\u001b[0m\u001b[1;33m\u001b[0m\u001b[0m\n\u001b[0;32m    579\u001b[0m                 \u001b[1;32mif\u001b[0m \u001b[0misinstance\u001b[0m\u001b[1;33m(\u001b[0m\u001b[0mfobj\u001b[0m\u001b[1;33m,\u001b[0m \u001b[0mstr\u001b[0m\u001b[1;33m)\u001b[0m\u001b[1;33m:\u001b[0m\u001b[1;33m\u001b[0m\u001b[1;33m\u001b[0m\u001b[0m\n",
      "\u001b[1;31mFileNotFoundError\u001b[0m: [Errno 2] No such file or directory: 'model.pkl'"
     ]
    }
   ],
   "source": []
  },
  {
   "cell_type": "code",
   "execution_count": null,
   "id": "34fd5cb5",
   "metadata": {},
   "outputs": [],
   "source": []
  },
  {
   "cell_type": "code",
   "execution_count": null,
   "id": "e877e15f",
   "metadata": {},
   "outputs": [],
   "source": []
  }
 ],
 "metadata": {
  "kernelspec": {
   "display_name": "Python 3",
   "language": "python",
   "name": "python3"
  },
  "language_info": {
   "codemirror_mode": {
    "name": "ipython",
    "version": 3
   },
   "file_extension": ".py",
   "mimetype": "text/x-python",
   "name": "python",
   "nbconvert_exporter": "python",
   "pygments_lexer": "ipython3",
   "version": "3.8.8"
  }
 },
 "nbformat": 4,
 "nbformat_minor": 5
}
